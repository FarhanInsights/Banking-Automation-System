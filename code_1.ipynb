{
 "cells": [
  {
   "cell_type": "markdown",
   "id": "89b8adff-d928-40b0-9cf2-65f6d1640a84",
   "metadata": {},
   "source": [
    "# Steps in Database Connectivity\n",
    "- import db specific driver module\n",
    "- create connection with database\n",
    "- create cursor object\n",
    "- execute query on cursor object\n",
    "- commit the connection\n",
    "- close the connection"
   ]
  },
  {
   "cell_type": "code",
   "execution_count": null,
   "id": "a14d23f3-39db-4066-86d0-cd60b5122192",
   "metadata": {},
   "outputs": [],
   "source": [
    "import pymysql  #(is a 3rd party module,need to be installed using pip)"
   ]
  },
  {
   "cell_type": "code",
   "execution_count": null,
   "id": "f2d32d59-0204-4176-a56d-28b86486b9bb",
   "metadata": {},
   "outputs": [],
   "source": [
    "con=pymysql.connect(host=\"localhost\",port=3306,user=\"root\",password=\"root\",database=\"3to430\")"
   ]
  },
  {
   "cell_type": "code",
   "execution_count": null,
   "id": "dc419a5f-abf0-4fab-a88b-b937a7831293",
   "metadata": {},
   "outputs": [],
   "source": [
    "curobj=con.cursor()  #responsible to execute queries"
   ]
  },
  {
   "cell_type": "code",
   "execution_count": null,
   "id": "ff1149e7-2c2b-44fd-89b5-e07bbba51e03",
   "metadata": {},
   "outputs": [],
   "source": [
    "rowcount=curobj.execute(\"insert into emp values(908,'dhoni',66000,'coding')\")\n",
    "print(rowcount)"
   ]
  },
  {
   "cell_type": "code",
   "execution_count": null,
   "id": "b13edd66-e2dd-419e-bd9d-36109d66fd19",
   "metadata": {},
   "outputs": [],
   "source": [
    "con.commit() #persist the query to table"
   ]
  },
  {
   "cell_type": "code",
   "execution_count": null,
   "id": "855d86d6-1024-4d68-a17c-729f7998bf52",
   "metadata": {},
   "outputs": [],
   "source": [
    "con.close()"
   ]
  },
  {
   "cell_type": "code",
   "execution_count": null,
   "id": "52952c8c-4ca5-48b6-9812-553669b61dd7",
   "metadata": {},
   "outputs": [],
   "source": [
    "import pymysql\n",
    "con=pymysql.connect(user=\"root\",password=\"root\",database=\"3to430\")\n",
    "curobj=con.cursor() \n",
    "curobj.execute(\"insert into emp values(909,'dhoni',66000,'coding')\")\n",
    "curobj.execute(\"update emp set emp_sal=emp_sal+1000\")\n",
    "curobj.execute(\"delete from emp where emp_id=201\")\n",
    "con.commit()\n",
    "con.close()\n",
    "print(\"done\")"
   ]
  },
  {
   "cell_type": "code",
   "execution_count": 1,
   "id": "b9b33633-f190-4fdc-824b-2d75ee8b4280",
   "metadata": {},
   "outputs": [
    {
     "name": "stdout",
     "output_type": "stream",
     "text": [
      "done\n"
     ]
    }
   ],
   "source": [
    "import pymysql\n",
    "con=pymysql.connect(user=\"root\",password=\"root\",database=\"3to430\")\n",
    "curobj=con.cursor() \n",
    "curobj.execute(\"insert into emp values(999,'dhoni',66000,'coding')\")\n",
    "curobj.execute(\"update emp set emp_sal=emp_sal+1000\")\n",
    "curobj.execute(\"delete from emp where emp_id=908\")\n",
    "con.commit()\n",
    "con.close()\n",
    "print(\"done\")"
   ]
  },
  {
   "cell_type": "code",
   "execution_count": 6,
   "id": "dae0f1a3-3403-4c2f-a0ae-6e96116fd190",
   "metadata": {},
   "outputs": [
    {
     "name": "stdout",
     "output_type": "stream",
     "text": [
      "14\n"
     ]
    }
   ],
   "source": [
    "import pymysql\n",
    "con=pymysql.connect(user=\"root\",password=\"root\",database=\"3to430\")\n",
    "curobj=con.cursor() \n",
    "#row_count=curobj.execute(\"select * from emp\")\n",
    "#row_count=curobj.execute(\"select * from emp where emp_sal>50000\")\n",
    "row_count=curobj.execute(\"select emp_id,emp_name from emp\")\n",
    "print(row_count)\n",
    "con.close()"
   ]
  },
  {
   "cell_type": "code",
   "execution_count": 13,
   "id": "030069df-e6f2-41a6-aacd-6c0a44985a5c",
   "metadata": {},
   "outputs": [
    {
     "name": "stdout",
     "output_type": "stream",
     "text": [
      "(201, 'virat', 35650.0, 'testing')\n",
      "(202, 'rohit', None, 'testing')\n",
      "((205, 'karan', 24105.0, 'testing'), (206, 'arjun', 12550.0, 'testing'), (207, 'dhoni', 51000.0, 'testing'))\n",
      "((208, 'sachin', 24100.0, 'testing'), (501, 'yuvi', 24100.0, 'accounts'), (502, 'pandya', 24100.0, 'accounts'), (506, 'vijay', 31000.0, 'accounts'), (901, 'abc', 26000.0, 'testing'), (902, 'abc', 11000.0, 'testing'), (905, 'aa', 41000.0, 'testing'), (906, 'dhoni', 67000.0, 'coding'), (999, 'dhoni', 67000.0, 'coding'))\n",
      "None\n",
      "(201, 'virat', 35650.0, 'testing')\n"
     ]
    }
   ],
   "source": [
    "import pymysql\n",
    "con=pymysql.connect(user=\"root\",password=\"root\",database=\"3to430\")\n",
    "curobj=con.cursor() \n",
    "row_count=curobj.execute(\"select * from emp\")\n",
    "tup=curobj.fetchone()\n",
    "print(tup)\n",
    "\n",
    "tup=curobj.fetchone()\n",
    "print(tup)\n",
    "\n",
    "tups=curobj.fetchmany(3)\n",
    "print(tups)\n",
    "\n",
    "tups=curobj.fetchall()\n",
    "print(tups)\n",
    "\n",
    "tup=curobj.fetchone()\n",
    "print(tup)\n",
    "\n",
    "curobj.scroll(0,mode=\"absolute\")\n",
    "tup=curobj.fetchone()\n",
    "print(tup)\n",
    "\n",
    "con.close()"
   ]
  },
  {
   "cell_type": "code",
   "execution_count": 14,
   "id": "52a4d981-d5a4-4f95-aac3-611c34e5f318",
   "metadata": {},
   "outputs": [
    {
     "name": "stdout",
     "output_type": "stream",
     "text": [
      "(201, 'virat', 35650.0, 'testing')\n",
      "(202, 'rohit', None, 'testing')\n",
      "(205, 'karan', 24105.0, 'testing')\n",
      "(206, 'arjun', 12550.0, 'testing')\n",
      "(207, 'dhoni', 51000.0, 'testing')\n",
      "(208, 'sachin', 24100.0, 'testing')\n",
      "(501, 'yuvi', 24100.0, 'accounts')\n",
      "(502, 'pandya', 24100.0, 'accounts')\n",
      "(506, 'vijay', 31000.0, 'accounts')\n",
      "(901, 'abc', 26000.0, 'testing')\n",
      "(902, 'abc', 11000.0, 'testing')\n",
      "(905, 'aa', 41000.0, 'testing')\n",
      "(906, 'dhoni', 67000.0, 'coding')\n",
      "(999, 'dhoni', 67000.0, 'coding')\n"
     ]
    }
   ],
   "source": [
    "import pymysql\n",
    "con=pymysql.connect(user=\"root\",password=\"root\",database=\"3to430\")\n",
    "curobj=con.cursor() \n",
    "curobj.execute(\"select * from emp\")\n",
    "for tup in curobj:\n",
    "    print(tup)\n",
    "\n",
    "con.close()"
   ]
  },
  {
   "cell_type": "code",
   "execution_count": 15,
   "id": "6d30e441-ad57-4920-8f85-6f7c9bacc084",
   "metadata": {},
   "outputs": [
    {
     "name": "stdout",
     "output_type": "stream",
     "text": [
      "(207, 'dhoni', 51000.0, 'testing')\n",
      "(906, 'dhoni', 67000.0, 'coding')\n",
      "(999, 'dhoni', 67000.0, 'coding')\n"
     ]
    }
   ],
   "source": [
    "import pymysql\n",
    "con=pymysql.connect(user=\"root\",password=\"root\",database=\"3to430\")\n",
    "curobj=con.cursor() \n",
    "curobj.execute(\"select * from emp where emp_sal>50000\")\n",
    "for tup in curobj:\n",
    "    print(tup)\n",
    "\n",
    "con.close()"
   ]
  },
  {
   "cell_type": "code",
   "execution_count": 16,
   "id": "618d96e8-4dde-4dfb-a682-8a285cc38a5a",
   "metadata": {},
   "outputs": [
    {
     "name": "stdout",
     "output_type": "stream",
     "text": [
      "((207, 'dhoni', 51000.0, 'testing'), (906, 'dhoni', 67000.0, 'coding'), (999, 'dhoni', 67000.0, 'coding'))\n"
     ]
    }
   ],
   "source": [
    "import pymysql\n",
    "con=pymysql.connect(user=\"root\",password=\"root\",database=\"3to430\")\n",
    "curobj=con.cursor() \n",
    "curobj.execute(\"select * from emp where emp_sal>50000\")\n",
    "print(curobj.fetchall())\n",
    "con.close()"
   ]
  },
  {
   "cell_type": "code",
   "execution_count": 24,
   "id": "c0def981-2fbe-45b9-84bc-b0d1bf37b8f3",
   "metadata": {},
   "outputs": [
    {
     "name": "stdout",
     "output_type": "stream",
     "text": [
      "Emp_Id\tEmp_name  Emp_Sal\tEmp_Dept\n",
      "201\tvirat\t35650.0\t\ttesting\n",
      "202\trohit\tNone\t\ttesting\n",
      "205\tkaran\t24105.0\t\ttesting\n",
      "206\tarjun\t12550.0\t\ttesting\n",
      "207\tdhoni\t51000.0\t\ttesting\n",
      "208\tsachin\t24100.0\t\ttesting\n",
      "501\tyuvi\t24100.0\t\taccounts\n",
      "502\tpandya\t24100.0\t\taccounts\n",
      "506\tvijay\t31000.0\t\taccounts\n",
      "901\tabc\t26000.0\t\ttesting\n",
      "902\tabc\t11000.0\t\ttesting\n",
      "905\taa\t41000.0\t\ttesting\n",
      "906\tdhoni\t67000.0\t\tcoding\n",
      "999\tdhoni\t67000.0\t\tcoding\n"
     ]
    }
   ],
   "source": [
    "import pymysql\n",
    "con=pymysql.connect(user=\"root\",password=\"root\",database=\"3to430\")\n",
    "curobj=con.cursor() \n",
    "curobj.execute(\"select * from emp\")\n",
    "print(\"Emp_Id\\tEmp_name  Emp_Sal\\tEmp_Dept\")\n",
    "for tup in curobj:\n",
    "    print(f\"{tup[0]}\\t{tup[1]}\\t{tup[2]}\\t\\t{tup[3]}\")\n",
    "con.close()"
   ]
  },
  {
   "cell_type": "code",
   "execution_count": null,
   "id": "16a86050-134c-45d1-a491-63aa953e4bd0",
   "metadata": {},
   "outputs": [],
   "source": []
  }
 ],
 "metadata": {
  "kernelspec": {
   "display_name": "Python 3 (ipykernel)",
   "language": "python",
   "name": "python3"
  },
  "language_info": {
   "codemirror_mode": {
    "name": "ipython",
    "version": 3
   },
   "file_extension": ".py",
   "mimetype": "text/x-python",
   "name": "python",
   "nbconvert_exporter": "python",
   "pygments_lexer": "ipython3",
   "version": "3.11.4"
  }
 },
 "nbformat": 4,
 "nbformat_minor": 5
}
