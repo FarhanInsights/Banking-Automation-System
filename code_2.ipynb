{
 "cells": [
  {
   "cell_type": "code",
   "execution_count": 3,
   "id": "ffca514f-2e1c-4f1d-a129-544cd438b1f2",
   "metadata": {},
   "outputs": [
    {
     "name": "stdin",
     "output_type": "stream",
     "text": [
      "enter dept: coding\n"
     ]
    },
    {
     "name": "stdout",
     "output_type": "stream",
     "text": [
      "((906, 'dhoni', 67000.0, 'coding'), (999, 'dhoni', 67000.0, 'coding'))\n"
     ]
    }
   ],
   "source": [
    "import pymysql\n",
    "con=pymysql.connect(user=\"root\",password=\"root\",database=\"3to430\")\n",
    "curobj=con.cursor()\n",
    "d=input(\"enter dept:\")\n",
    "curobj.execute(f\"select * from emp where emp_dept='{d}'\")\n",
    "print(curobj.fetchall())\n",
    "con.close()"
   ]
  },
  {
   "cell_type": "code",
   "execution_count": 4,
   "id": "33e038bd-cf4e-4387-9605-0588da47b6dd",
   "metadata": {},
   "outputs": [
    {
     "name": "stdin",
     "output_type": "stream",
     "text": [
      "enter dept: testing\n",
      "enter sal: 40000\n"
     ]
    },
    {
     "name": "stdout",
     "output_type": "stream",
     "text": [
      "((905, 'aa', 41000.0, 'testing'), (207, 'dhoni', 51000.0, 'testing'))\n"
     ]
    }
   ],
   "source": [
    "import pymysql\n",
    "con=pymysql.connect(user=\"root\",password=\"root\",database=\"3to430\")\n",
    "curobj=con.cursor()\n",
    "d=input(\"enter dept:\")\n",
    "s=int(input(\"enter sal:\"))\n",
    "curobj.execute(f\"select * from emp where emp_dept='{d}' and emp_sal>{s}\")\n",
    "print(curobj.fetchall())\n",
    "con.close()"
   ]
  },
  {
   "cell_type": "code",
   "execution_count": 6,
   "id": "fdc27548-8281-4770-99de-33a58852e930",
   "metadata": {},
   "outputs": [
    {
     "name": "stdin",
     "output_type": "stream",
     "text": [
      "enter dept: testing\n",
      "enter sal: 40000\n"
     ]
    },
    {
     "name": "stdout",
     "output_type": "stream",
     "text": [
      "((905, 'aa', 41000.0, 'testing'), (207, 'dhoni', 51000.0, 'testing'))\n"
     ]
    }
   ],
   "source": [
    "import pymysql\n",
    "con=pymysql.connect(user=\"root\",password=\"root\",database=\"3to430\")\n",
    "curobj=con.cursor()\n",
    "d=input(\"enter dept:\")\n",
    "s=int(input(\"enter sal:\"))\n",
    "curobj.execute(\"select * from emp where emp_dept=%s and emp_sal>%s\",(d,s))\n",
    "print(curobj.fetchall())\n",
    "con.close()"
   ]
  },
  {
   "cell_type": "code",
   "execution_count": 13,
   "id": "b8431419-e3f8-450c-9b3d-6c2491494cad",
   "metadata": {},
   "outputs": [
    {
     "name": "stdin",
     "output_type": "stream",
     "text": [
      "enter sal: 23423\n"
     ]
    },
    {
     "name": "stdout",
     "output_type": "stream",
     "text": [
      "emp does not exist\n"
     ]
    }
   ],
   "source": [
    "import pymysql\n",
    "con=pymysql.connect(user=\"root\",password=\"root\",database=\"3to430\")\n",
    "curobj=con.cursor()\n",
    "i=int(input(\"enter sal:\"))\n",
    "curobj.execute(\"select * from emp where emp_id=%s\",(i,))\n",
    "tup=curobj.fetchone()\n",
    "if(tup==None):\n",
    "    print(\"emp does not exist\")\n",
    "else:\n",
    "    print(tup)\n",
    "con.close()"
   ]
  },
  {
   "cell_type": "code",
   "execution_count": 14,
   "id": "09d7f557-fe01-4ffe-b6fa-1f760d8b0506",
   "metadata": {},
   "outputs": [
    {
     "name": "stdout",
     "output_type": "stream",
     "text": [
      "((201, 'virat', 35650.0, 'testing'), (202, 'rohit', None, 'testing'), (205, 'karan', 24105.0, 'testing'), (206, 'arjun', 12550.0, 'testing'), (207, 'dhoni', 51000.0, 'testing'), (208, 'sachin', 24100.0, 'testing'), (501, 'yuvi', 24100.0, 'accounts'), (502, 'pandya', 24100.0, 'accounts'), (506, 'vijay', 31000.0, 'accounts'), (901, 'abc', 26000.0, 'testing'), (902, 'abc', 11000.0, 'testing'), (905, 'aa', 41000.0, 'testing'), (906, 'dhoni', 67000.0, 'coding'), (999, 'dhoni', 67000.0, 'coding'))\n"
     ]
    }
   ],
   "source": [
    "import pymysql\n",
    "con=pymysql.connect(user=\"root\",password=\"root\",database=\"3to430\")\n",
    "curobj=con.cursor()\n",
    "curobj.callproc(\"pro1\")\n",
    "print(curobj.fetchall())\n",
    "con.close()"
   ]
  },
  {
   "cell_type": "code",
   "execution_count": 15,
   "id": "467606c3-76b4-49a9-9d23-943e04fb01b5",
   "metadata": {},
   "outputs": [
    {
     "name": "stdout",
     "output_type": "stream",
     "text": [
      "((207, 'dhoni', 51000.0, 'testing'), (906, 'dhoni', 67000.0, 'coding'), (999, 'dhoni', 67000.0, 'coding'))\n"
     ]
    }
   ],
   "source": [
    "import pymysql\n",
    "con=pymysql.connect(user=\"root\",password=\"root\",database=\"3to430\")\n",
    "curobj=con.cursor()\n",
    "curobj.callproc(\"pro2\",[50000])\n",
    "print(curobj.fetchall())\n",
    "con.close()"
   ]
  },
  {
   "cell_type": "code",
   "execution_count": 19,
   "id": "c5f54a40-3fea-4cf6-8d69-a764a9401d38",
   "metadata": {},
   "outputs": [
    {
     "name": "stdout",
     "output_type": "stream",
     "text": [
      "(('virat',),)\n"
     ]
    }
   ],
   "source": [
    "import pymysql\n",
    "con=pymysql.connect(user=\"root\",password=\"root\",database=\"3to430\")\n",
    "curobj=con.cursor()\n",
    "curobj.callproc(\"pro4\",[201,0])    #0 represents out param of procedure\n",
    "curobj.execute(\"select @_pro4_1\")\n",
    "print(curobj.fetchall())\n",
    "con.close()"
   ]
  },
  {
   "cell_type": "code",
   "execution_count": null,
   "id": "4f1e46e2-99a0-40b6-add7-a30c3d7b7e71",
   "metadata": {},
   "outputs": [],
   "source": []
  },
  {
   "cell_type": "code",
   "execution_count": 20,
   "id": "417585d8-e5fb-45e5-8290-532be791d630",
   "metadata": {},
   "outputs": [
    {
     "data": {
      "text/plain": [
       "'Tue Dec 20 15:04:53 2022'"
      ]
     },
     "execution_count": 20,
     "metadata": {},
     "output_type": "execute_result"
    }
   ],
   "source": [
    "import time\n",
    "time.ctime()"
   ]
  },
  {
   "cell_type": "code",
   "execution_count": 25,
   "id": "71790ee6-64e3-4ca3-90bf-3170a5655be5",
   "metadata": {},
   "outputs": [
    {
     "name": "stdout",
     "output_type": "stream",
     "text": [
      "2022-12-20\n",
      "15:07:44.390131\n",
      "2022-12-20 15:07:44.390131\n"
     ]
    }
   ],
   "source": [
    "from datetime import datetime\n",
    "dt=datetime.now()\n",
    "d=dt.date()\n",
    "t=dt.time()\n",
    "print(d)\n",
    "print(t)\n",
    "print(dt)\n",
    "\n",
    "import pymysql\n",
    "con=pymysql.connect(user=\"root\",password=\"root\",database=\"3to430\")\n",
    "curobj=con.cursor()\n",
    "curobj.execute(\"insert into bank values(%s,%s,%s)\",(d,t,dt))\n",
    "con.commit()\n",
    "con.close()"
   ]
  },
  {
   "cell_type": "code",
   "execution_count": 27,
   "id": "ee14226c-a632-4972-8327-fcd6f1247adc",
   "metadata": {},
   "outputs": [
    {
     "ename": "OperationalError",
     "evalue": "table emp already exists",
     "output_type": "error",
     "traceback": [
      "\u001b[1;31m---------------------------------------------------------------------------\u001b[0m",
      "\u001b[1;31mOperationalError\u001b[0m                          Traceback (most recent call last)",
      "Input \u001b[1;32mIn [27]\u001b[0m, in \u001b[0;36m<cell line: 4>\u001b[1;34m()\u001b[0m\n\u001b[0;32m      2\u001b[0m con\u001b[38;5;241m=\u001b[39msqlite3\u001b[38;5;241m.\u001b[39mconnect(database\u001b[38;5;241m=\u001b[39m\u001b[38;5;124m\"\u001b[39m\u001b[38;5;124mmydb.sqlite\u001b[39m\u001b[38;5;124m\"\u001b[39m)\n\u001b[0;32m      3\u001b[0m curobj\u001b[38;5;241m=\u001b[39mcon\u001b[38;5;241m.\u001b[39mcursor()\n\u001b[1;32m----> 4\u001b[0m \u001b[43mcurobj\u001b[49m\u001b[38;5;241;43m.\u001b[39;49m\u001b[43mexecute\u001b[49m\u001b[43m(\u001b[49m\u001b[38;5;124;43m\"\u001b[39;49m\u001b[38;5;124;43mcreate table emp(empid int primary key,empname text)\u001b[39;49m\u001b[38;5;124;43m\"\u001b[39;49m\u001b[43m)\u001b[49m\n\u001b[0;32m      5\u001b[0m con\u001b[38;5;241m.\u001b[39mcommit()\n\u001b[0;32m      6\u001b[0m con\u001b[38;5;241m.\u001b[39mclose()\n",
      "\u001b[1;31mOperationalError\u001b[0m: table emp already exists"
     ]
    }
   ],
   "source": [
    "import sqlite3\n",
    "con=sqlite3.connect(database=\"mydb.sqlite\")\n",
    "curobj=con.cursor()\n",
    "curobj.execute(\"create table emp(empid int primary key,empname text)\")\n",
    "con.commit()\n",
    "con.close()\n",
    "print(\"table created\")"
   ]
  },
  {
   "cell_type": "code",
   "execution_count": 28,
   "id": "8985bfa2-071f-4950-903a-898b04be5074",
   "metadata": {},
   "outputs": [
    {
     "name": "stdout",
     "output_type": "stream",
     "text": [
      "done\n"
     ]
    }
   ],
   "source": [
    "import sqlite3\n",
    "con=sqlite3.connect(database=\"mydb.sqlite\")\n",
    "curobj=con.cursor()\n",
    "curobj.execute(\"insert into emp values(101,'surya')\")\n",
    "con.commit()\n",
    "con.close()\n",
    "print(\"done\")"
   ]
  },
  {
   "cell_type": "code",
   "execution_count": 30,
   "id": "8dc8b0e9-bf2d-4170-a7a3-9bf72e5b174f",
   "metadata": {},
   "outputs": [
    {
     "name": "stdin",
     "output_type": "stream",
     "text": [
      "enter id: 205\n",
      "enter name: ishan\n"
     ]
    },
    {
     "name": "stdout",
     "output_type": "stream",
     "text": [
      "done\n"
     ]
    }
   ],
   "source": [
    "import sqlite3\n",
    "con=sqlite3.connect(database=\"mydb.sqlite\")\n",
    "curobj=con.cursor()\n",
    "i=int(input(\"enter id:\"))\n",
    "n=input(\"enter name:\")\n",
    "curobj.execute(\"insert into emp values(?,?)\",(i,n))\n",
    "con.commit()\n",
    "con.close()\n",
    "print(\"done\")"
   ]
  },
  {
   "cell_type": "code",
   "execution_count": 32,
   "id": "3ec76411-8a75-41ff-9611-de6fe5e9e8aa",
   "metadata": {},
   "outputs": [
    {
     "name": "stdout",
     "output_type": "stream",
     "text": [
      "[(101, 'surya'), (102, 'virat'), (205, 'ishan')]\n"
     ]
    },
    {
     "ename": "AttributeError",
     "evalue": "'sqlite3.Cursor' object has no attribute 'scroll'",
     "output_type": "error",
     "traceback": [
      "\u001b[1;31m---------------------------------------------------------------------------\u001b[0m",
      "\u001b[1;31mAttributeError\u001b[0m                            Traceback (most recent call last)",
      "Input \u001b[1;32mIn [32]\u001b[0m, in \u001b[0;36m<cell line: 6>\u001b[1;34m()\u001b[0m\n\u001b[0;32m      4\u001b[0m curobj\u001b[38;5;241m.\u001b[39mexecute(\u001b[38;5;124m\"\u001b[39m\u001b[38;5;124mselect * from emp\u001b[39m\u001b[38;5;124m\"\u001b[39m)\n\u001b[0;32m      5\u001b[0m \u001b[38;5;28mprint\u001b[39m(curobj\u001b[38;5;241m.\u001b[39mfetchall())\n\u001b[1;32m----> 6\u001b[0m \u001b[43mcurobj\u001b[49m\u001b[38;5;241;43m.\u001b[39;49m\u001b[43mscroll\u001b[49m(\u001b[38;5;241m0\u001b[39m,mode\u001b[38;5;241m=\u001b[39m\u001b[38;5;124m\"\u001b[39m\u001b[38;5;124mabsolute\u001b[39m\u001b[38;5;124m\"\u001b[39m)\n\u001b[0;32m      7\u001b[0m \u001b[38;5;28mprint\u001b[39m(curobj\u001b[38;5;241m.\u001b[39mfetchall())\n\u001b[0;32m      8\u001b[0m con\u001b[38;5;241m.\u001b[39mclose()\n",
      "\u001b[1;31mAttributeError\u001b[0m: 'sqlite3.Cursor' object has no attribute 'scroll'"
     ]
    }
   ],
   "source": [
    "import sqlite3\n",
    "con=sqlite3.connect(database=\"mydb.sqlite\")\n",
    "curobj=con.cursor()\n",
    "curobj.execute(\"select * from emp\")\n",
    "print(curobj.fetchall())\n",
    "curobj.scroll(0,mode=\"absolute\")\n",
    "print(curobj.fetchall())\n",
    "con.close()"
   ]
  },
  {
   "cell_type": "code",
   "execution_count": 35,
   "id": "f60fc7a3-133f-4c52-b976-e47c490841e4",
   "metadata": {},
   "outputs": [
    {
     "name": "stdout",
     "output_type": "stream",
     "text": [
      "[(101, 'surya'), (102, 'virat'), (205, 'ishan')]\n",
      "(101, 'surya')\n"
     ]
    }
   ],
   "source": [
    "import sqlite3\n",
    "con=sqlite3.connect(database=\"mydb.sqlite\")\n",
    "curobj=con.cursor()\n",
    "curobj.execute(\"select * from emp\")\n",
    "tups=curobj.fetchall()\n",
    "print(tups)\n",
    "print(tups[0])\n",
    "con.close()"
   ]
  },
  {
   "cell_type": "code",
   "execution_count": null,
   "id": "8421aff4-c878-4ea2-bf15-4bc5a215502d",
   "metadata": {},
   "outputs": [],
   "source": []
  }
 ],
 "metadata": {
  "kernelspec": {
   "display_name": "Python 3 (ipykernel)",
   "language": "python",
   "name": "python3"
  },
  "language_info": {
   "codemirror_mode": {
    "name": "ipython",
    "version": 3
   },
   "file_extension": ".py",
   "mimetype": "text/x-python",
   "name": "python",
   "nbconvert_exporter": "python",
   "pygments_lexer": "ipython3",
   "version": "3.11.4"
  }
 },
 "nbformat": 4,
 "nbformat_minor": 5
}
