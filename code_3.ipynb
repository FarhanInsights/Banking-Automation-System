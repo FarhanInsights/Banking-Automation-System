{
 "cells": [
  {
   "cell_type": "code",
   "execution_count": 9,
   "id": "34a09bc1-3ff9-4475-a73c-4b43fbeb7106",
   "metadata": {},
   "outputs": [],
   "source": [
    "from tkinter import *\n",
    "from PIL import Image,ImageTk"
   ]
  },
  {
   "cell_type": "code",
   "execution_count": 63,
   "id": "60b549a6-0a26-452e-9790-cc4824f90a5a",
   "metadata": {},
   "outputs": [],
   "source": [
    "win=Tk()\n",
    "win.state(\"zoomed\")\n",
    "win.configure(bg=\"powder blue\")\n",
    "\n",
    "lbl_title=Label(win,text=\"Banking Automation\",bg=\"powder blue\",font=('Arial',55,'bold','underline'))\n",
    "lbl_title.place(relx=.25,rely=.02)\n",
    "\n",
    "img=Image.open(\"logo.png\").resize((220,140))\n",
    "imgtk=ImageTk.PhotoImage(img,master=win)\n",
    "\n",
    "lbl_logo=Label(win,image=imgtk)\n",
    "lbl_logo.place(x=0,y=0)\n",
    "\n",
    "\n",
    "\n",
    "def login_screen():\n",
    "    frm=Frame(win)\n",
    "    frm.configure(bg=\"pink\")\n",
    "    frm.place(relx=0,rely=.2,relwidth=1,relheight=.8)\n",
    "\n",
    "    lbl_acn=Label(frm,text=\"Account No\",bg='pink',font=('Arial',20,'bold'))\n",
    "    lbl_acn.place(relx=.3,rely=.1)\n",
    "    \n",
    "    e_acn=Entry(frm,font=('Arial',20,'bold'),bd=5)\n",
    "    e_acn.place(relx=.45,rely=.1)\n",
    "    e_acn.focus()\n",
    "    \n",
    "    lbl_pass=Label(frm,text=\"Password\",bg='pink',font=('Arial',20,'bold'))\n",
    "    lbl_pass.place(relx=.3,rely=.25)\n",
    "    \n",
    "    e_pass=Entry(frm,font=('Arial',20,'bold'),bd=5,show=\"*\")\n",
    "    e_pass.place(relx=.45,rely=.25)\n",
    "    \n",
    "    btn_login=Button(frm,text=\"login\",font=('Arial',20,'bold'),bd=5,bg=\"powder blue\")\n",
    "    btn_login.place(relx=.45,rely=.4)\n",
    "    \n",
    "    btn_reset=Button(frm,text=\"reset\",font=('Arial',20,'bold'),bd=5,bg=\"powder blue\")\n",
    "    btn_reset.place(relx=.55,rely=.4)\n",
    "    \n",
    "    btn_fp=Button(frm,text=\"forgot password\",font=('Arial',20,'bold'),bd=5,bg=\"powder blue\")\n",
    "    btn_fp.place(relx=.435,rely=.55)\n",
    "    \n",
    "    btn_new=Button(frm,text=\"open new account\",command=newuser_screen,width=18,font=('Arial',20,'bold'),bd=5,bg=\"powder blue\")\n",
    "    btn_new.place(relx=.4,rely=.7)\n",
    "    \n",
    "\n",
    "def newuser_screen():\n",
    "    frm=Frame(win)\n",
    "    frm.configure(bg=\"pink\")\n",
    "    frm.place(relx=0,rely=.2,relwidth=1,relheight=.8)\n",
    "\n",
    "    btn_back=Button(frm,text=\"back\",command=login_screen,font=('Arial',20,'bold'),bd=5,bg=\"powder blue\")\n",
    "    btn_back.place(relx=0,rely=0)\n",
    "    \n",
    "    \n",
    "login_screen()\n",
    "win.mainloop()"
   ]
  },
  {
   "cell_type": "code",
   "execution_count": null,
   "id": "8aabd567-0621-45c9-a963-14f46af89369",
   "metadata": {},
   "outputs": [],
   "source": []
  }
 ],
 "metadata": {
  "kernelspec": {
   "display_name": "Python 3 (ipykernel)",
   "language": "python",
   "name": "python3"
  },
  "language_info": {
   "codemirror_mode": {
    "name": "ipython",
    "version": 3
   },
   "file_extension": ".py",
   "mimetype": "text/x-python",
   "name": "python",
   "nbconvert_exporter": "python",
   "pygments_lexer": "ipython3",
   "version": "3.11.4"
  }
 },
 "nbformat": 4,
 "nbformat_minor": 5
}
